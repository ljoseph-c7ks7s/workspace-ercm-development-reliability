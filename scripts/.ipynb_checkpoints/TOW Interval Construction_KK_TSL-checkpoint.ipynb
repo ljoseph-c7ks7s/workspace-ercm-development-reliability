{
 "cells": [
  {
   "cell_type": "code",
   "execution_count": null,
   "metadata": {
    "collapsed": true
   },
   "outputs": [],
   "source": [
    "import pandas as pd\n",
    "import numpy as np\n",
    "\n",
    "df1 = df[['Work_Unit_Code','On_Component_Serial_Number', ‘On_Component_Part_Number’, ‘Equipment_Designator’, ‘Serial_Number’, ‘Geographic_Location’, ‘Performing_Geographic_Location’, ‘Transaction_Date’, ‘Work_Center_Code’, ‘When_Discovered_Code’, ‘How_Malfunction_Code’, ‘Action_Taken_Code’, ‘Type_Maintenance_Code’, ‘Current_Operating_Time’, ‘Component_Position_Number’, ‘Corrective_Narrative’, ‘Discrepancy_Narrative’, ‘Work_Center_Event_Narrative’]]\n",
    "\n",
    "df1 = df1.dropna(axis = ‘On_Component_Serial_Number’)\n",
    "\n",
    "\n"
   ]
  }
 ],
 "metadata": {
  "kernelspec": {
   "display_name": "Python 2",
   "language": "python",
   "name": "python2"
  }
 },
 "nbformat": 4,
 "nbformat_minor": 2
}
